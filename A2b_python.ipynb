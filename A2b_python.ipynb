{
 "cells": [
  {
   "cell_type": "markdown",
   "id": "d92cf5c8",
   "metadata": {},
   "source": [
    "## A2b : IPL Performance vs Salary\n",
    "\n",
    "                        Gauri Vinod Nair\n",
    "                        V01110160"
   ]
  },
  {
   "cell_type": "code",
   "execution_count": 1,
   "id": "8a875fd4",
   "metadata": {},
   "outputs": [],
   "source": [
    "# Import necessary libraries\n",
    "import pandas as pd\n",
    "import numpy as np\n",
    "import matplotlib.pyplot as plt\n",
    "import seaborn as sns\n",
    "from sklearn.linear_model import LinearRegression\n",
    "from sklearn.model_selection import train_test_split\n",
    "from sklearn.metrics import mean_squared_error, r2_score"
   ]
  },
  {
   "cell_type": "code",
   "execution_count": 2,
   "id": "11aa4abb",
   "metadata": {},
   "outputs": [
    {
     "name": "stderr",
     "output_type": "stream",
     "text": [
      "C:\\Users\\gauri\\AppData\\Local\\Temp\\ipykernel_27640\\2420847839.py:2: DtypeWarning: Columns (2) have mixed types. Specify dtype option on import or set low_memory=False.\n",
      "  data = pd.read_csv('IPL_ball_by_ball_updated till 2024.csv')\n"
     ]
    }
   ],
   "source": [
    "# Load the dataset\n",
    "data = pd.read_csv('IPL_ball_by_ball_updated till 2024.csv')"
   ]
  },
  {
   "cell_type": "code",
   "execution_count": 3,
   "id": "9d1b359c",
   "metadata": {},
   "outputs": [
    {
     "name": "stdout",
     "output_type": "stream",
     "text": [
      "<class 'pandas.core.frame.DataFrame'>\n",
      "RangeIndex: 255759 entries, 0 to 255758\n",
      "Data columns (total 19 columns):\n",
      " #   Column               Non-Null Count   Dtype  \n",
      "---  ------               --------------   -----  \n",
      " 0   Match id             255759 non-null  int64  \n",
      " 1   Date                 255759 non-null  object \n",
      " 2   Season               255759 non-null  object \n",
      " 3   Batting team         255759 non-null  object \n",
      " 4   Bowling team         255759 non-null  object \n",
      " 5   Innings No           255759 non-null  int64  \n",
      " 6   Ball No              255759 non-null  float64\n",
      " 7   Bowler               255759 non-null  object \n",
      " 8   Striker              255759 non-null  object \n",
      " 9   Non Striker          255759 non-null  object \n",
      " 10  runs_scored          255759 non-null  int64  \n",
      " 11  extras               255759 non-null  int64  \n",
      " 12  type of extras       13823 non-null   object \n",
      " 13  score                255759 non-null  int64  \n",
      " 14  score/wicket         255759 non-null  object \n",
      " 15  wicket_confirmation  255759 non-null  int64  \n",
      " 16  wicket_type          12651 non-null   object \n",
      " 17  fielders_involved    9122 non-null    object \n",
      " 18  Player Out           12651 non-null   object \n",
      "dtypes: float64(1), int64(6), object(12)\n",
      "memory usage: 37.1+ MB\n",
      "None\n"
     ]
    }
   ],
   "source": [
    "# Display basic information about the dataset\n",
    "print(data.info())"
   ]
  },
  {
   "cell_type": "code",
   "execution_count": 4,
   "id": "00ffba91",
   "metadata": {},
   "outputs": [
    {
     "name": "stdout",
     "output_type": "stream",
     "text": [
      "   Match id        Date   Season           Batting team  \\\n",
      "0    335982  18-04-2008  2007/08  Kolkata Knight Riders   \n",
      "1    335982  18-04-2008  2007/08  Kolkata Knight Riders   \n",
      "2    335982  18-04-2008  2007/08  Kolkata Knight Riders   \n",
      "3    335982  18-04-2008  2007/08  Kolkata Knight Riders   \n",
      "4    335982  18-04-2008  2007/08  Kolkata Knight Riders   \n",
      "\n",
      "                  Bowling team  Innings No  Ball No   Bowler      Striker  \\\n",
      "0  Royal Challengers Bangalore           1      0.1  P Kumar   SC Ganguly   \n",
      "1  Royal Challengers Bangalore           1      0.2  P Kumar  BB McCullum   \n",
      "2  Royal Challengers Bangalore           1      0.2  P Kumar  BB McCullum   \n",
      "3  Royal Challengers Bangalore           1      0.3  P Kumar  BB McCullum   \n",
      "4  Royal Challengers Bangalore           1      0.4  P Kumar  BB McCullum   \n",
      "\n",
      "   Non Striker  runs_scored  extras type of extras  score score/wicket  \\\n",
      "0  BB McCullum            0       1        legbyes      1          1/0   \n",
      "1   SC Ganguly            0       0            NaN      1          1/0   \n",
      "2   SC Ganguly            0       1          wides      2          2/0   \n",
      "3   SC Ganguly            0       0            NaN      2          2/0   \n",
      "4   SC Ganguly            0       0            NaN      2          2/0   \n",
      "\n",
      "   wicket_confirmation wicket_type fielders_involved Player Out  \n",
      "0                    0         NaN               NaN        NaN  \n",
      "1                    0         NaN               NaN        NaN  \n",
      "2                    0         NaN               NaN        NaN  \n",
      "3                    0         NaN               NaN        NaN  \n",
      "4                    0         NaN               NaN        NaN  \n"
     ]
    }
   ],
   "source": [
    "print(data.head())"
   ]
  },
  {
   "cell_type": "code",
   "execution_count": 5,
   "id": "11886ab8",
   "metadata": {},
   "outputs": [
    {
     "name": "stdout",
     "output_type": "stream",
     "text": [
      "Match id                    0\n",
      "Date                        0\n",
      "Season                      0\n",
      "Batting team                0\n",
      "Bowling team                0\n",
      "Innings No                  0\n",
      "Ball No                     0\n",
      "Bowler                      0\n",
      "Striker                     0\n",
      "Non Striker                 0\n",
      "runs_scored                 0\n",
      "extras                      0\n",
      "type of extras         241936\n",
      "score                       0\n",
      "score/wicket                0\n",
      "wicket_confirmation         0\n",
      "wicket_type            243108\n",
      "fielders_involved      246637\n",
      "Player Out             243108\n",
      "dtype: int64\n"
     ]
    }
   ],
   "source": [
    "# Data Cleaning\n",
    "# Check for missing values\n",
    "print(data.isnull().sum())"
   ]
  },
  {
   "cell_type": "code",
   "execution_count": 6,
   "id": "67cf2eaa",
   "metadata": {},
   "outputs": [],
   "source": [
    "# Dropping rows with missing critical values (e.g., 'runs_scored', 'Bowler', 'Striker')\n",
    "data.dropna(subset=['runs_scored', 'Bowler', 'Striker'], inplace=True)"
   ]
  },
  {
   "cell_type": "code",
   "execution_count": 7,
   "id": "fff47293",
   "metadata": {},
   "outputs": [],
   "source": [
    "# Fill missing values for non-critical columns with appropriate values\n",
    "data['extras'].fillna(0, inplace=True)\n",
    "data['type of extras'].fillna('None', inplace=True)\n",
    "data['wicket_confirmation'].fillna('No', inplace=True)\n",
    "data['wicket_type'].fillna('None', inplace=True)\n",
    "data['fielders_involved'].fillna('None', inplace=True)\n",
    "data['Player Out'].fillna('None', inplace=True)"
   ]
  },
  {
   "cell_type": "code",
   "execution_count": 8,
   "id": "5a397cea",
   "metadata": {},
   "outputs": [
    {
     "name": "stdout",
     "output_type": "stream",
     "text": [
      "Match id               0\n",
      "Date                   0\n",
      "Season                 0\n",
      "Batting team           0\n",
      "Bowling team           0\n",
      "Innings No             0\n",
      "Ball No                0\n",
      "Bowler                 0\n",
      "Striker                0\n",
      "Non Striker            0\n",
      "runs_scored            0\n",
      "extras                 0\n",
      "type of extras         0\n",
      "score                  0\n",
      "score/wicket           0\n",
      "wicket_confirmation    0\n",
      "wicket_type            0\n",
      "fielders_involved      0\n",
      "Player Out             0\n",
      "dtype: int64\n"
     ]
    }
   ],
   "source": [
    "print(data.isnull().sum())"
   ]
  },
  {
   "cell_type": "code",
   "execution_count": 9,
   "id": "abecd6a0",
   "metadata": {},
   "outputs": [
    {
     "name": "stderr",
     "output_type": "stream",
     "text": [
      "C:\\Users\\gauri\\AppData\\Local\\Temp\\ipykernel_27640\\2154577900.py:2: UserWarning: Parsing dates in %d-%m-%Y format when dayfirst=False (the default) was specified. Pass `dayfirst=True` or specify a format to silence this warning.\n",
      "  data['Date'] = pd.to_datetime(data['Date'])\n"
     ]
    }
   ],
   "source": [
    "# Convert 'Date' to datetime\n",
    "data['Date'] = pd.to_datetime(data['Date'])"
   ]
  },
  {
   "cell_type": "code",
   "execution_count": 10,
   "id": "47eaf835",
   "metadata": {},
   "outputs": [],
   "source": [
    "# Feature Engineering\n",
    "# Create a player performance dataset\n",
    "performance = data.groupby(['Striker']).agg({\n",
    "    'runs_scored': 'sum',\n",
    "    'Ball No': 'count',\n",
    "    'wicket_confirmation': lambda x: (x == 'Yes').sum()\n",
    "}).rename(columns={'Ball No': 'balls_faced', 'wicket_confirmation': 'wickets_lost'})\n",
    "\n",
    "performance['strike_rate'] = (performance['runs_scored'] / performance['balls_faced']) * 100\n"
   ]
  },
  {
   "cell_type": "code",
   "execution_count": 11,
   "id": "9338d71f",
   "metadata": {},
   "outputs": [
    {
     "data": {
      "text/html": [
       "<div>\n",
       "<style scoped>\n",
       "    .dataframe tbody tr th:only-of-type {\n",
       "        vertical-align: middle;\n",
       "    }\n",
       "\n",
       "    .dataframe tbody tr th {\n",
       "        vertical-align: top;\n",
       "    }\n",
       "\n",
       "    .dataframe thead th {\n",
       "        text-align: right;\n",
       "    }\n",
       "</style>\n",
       "<table border=\"1\" class=\"dataframe\">\n",
       "  <thead>\n",
       "    <tr style=\"text-align: right;\">\n",
       "      <th></th>\n",
       "      <th>runs_scored</th>\n",
       "      <th>balls_faced</th>\n",
       "      <th>wickets_lost</th>\n",
       "      <th>strike_rate</th>\n",
       "    </tr>\n",
       "    <tr>\n",
       "      <th>Striker</th>\n",
       "      <th></th>\n",
       "      <th></th>\n",
       "      <th></th>\n",
       "      <th></th>\n",
       "    </tr>\n",
       "  </thead>\n",
       "  <tbody>\n",
       "    <tr>\n",
       "      <th>A Ashish Reddy</th>\n",
       "      <td>280</td>\n",
       "      <td>196</td>\n",
       "      <td>0</td>\n",
       "      <td>142.857143</td>\n",
       "    </tr>\n",
       "    <tr>\n",
       "      <th>A Badoni</th>\n",
       "      <td>536</td>\n",
       "      <td>441</td>\n",
       "      <td>0</td>\n",
       "      <td>121.541950</td>\n",
       "    </tr>\n",
       "    <tr>\n",
       "      <th>A Chandila</th>\n",
       "      <td>4</td>\n",
       "      <td>7</td>\n",
       "      <td>0</td>\n",
       "      <td>57.142857</td>\n",
       "    </tr>\n",
       "    <tr>\n",
       "      <th>A Chopra</th>\n",
       "      <td>53</td>\n",
       "      <td>75</td>\n",
       "      <td>0</td>\n",
       "      <td>70.666667</td>\n",
       "    </tr>\n",
       "    <tr>\n",
       "      <th>A Choudhary</th>\n",
       "      <td>25</td>\n",
       "      <td>20</td>\n",
       "      <td>0</td>\n",
       "      <td>125.000000</td>\n",
       "    </tr>\n",
       "    <tr>\n",
       "      <th>...</th>\n",
       "      <td>...</td>\n",
       "      <td>...</td>\n",
       "      <td>...</td>\n",
       "      <td>...</td>\n",
       "    </tr>\n",
       "    <tr>\n",
       "      <th>Yashpal Singh</th>\n",
       "      <td>47</td>\n",
       "      <td>67</td>\n",
       "      <td>0</td>\n",
       "      <td>70.149254</td>\n",
       "    </tr>\n",
       "    <tr>\n",
       "      <th>Younis Khan</th>\n",
       "      <td>3</td>\n",
       "      <td>7</td>\n",
       "      <td>0</td>\n",
       "      <td>42.857143</td>\n",
       "    </tr>\n",
       "    <tr>\n",
       "      <th>Yudhvir Singh</th>\n",
       "      <td>1</td>\n",
       "      <td>2</td>\n",
       "      <td>0</td>\n",
       "      <td>50.000000</td>\n",
       "    </tr>\n",
       "    <tr>\n",
       "      <th>Yuvraj Singh</th>\n",
       "      <td>2754</td>\n",
       "      <td>2207</td>\n",
       "      <td>0</td>\n",
       "      <td>124.784776</td>\n",
       "    </tr>\n",
       "    <tr>\n",
       "      <th>Z Khan</th>\n",
       "      <td>117</td>\n",
       "      <td>141</td>\n",
       "      <td>0</td>\n",
       "      <td>82.978723</td>\n",
       "    </tr>\n",
       "  </tbody>\n",
       "</table>\n",
       "<p>665 rows × 4 columns</p>\n",
       "</div>"
      ],
      "text/plain": [
       "                runs_scored  balls_faced  wickets_lost  strike_rate\n",
       "Striker                                                            \n",
       "A Ashish Reddy          280          196             0   142.857143\n",
       "A Badoni                536          441             0   121.541950\n",
       "A Chandila                4            7             0    57.142857\n",
       "A Chopra                 53           75             0    70.666667\n",
       "A Choudhary              25           20             0   125.000000\n",
       "...                     ...          ...           ...          ...\n",
       "Yashpal Singh            47           67             0    70.149254\n",
       "Younis Khan               3            7             0    42.857143\n",
       "Yudhvir Singh             1            2             0    50.000000\n",
       "Yuvraj Singh           2754         2207             0   124.784776\n",
       "Z Khan                  117          141             0    82.978723\n",
       "\n",
       "[665 rows x 4 columns]"
      ]
     },
     "execution_count": 11,
     "metadata": {},
     "output_type": "execute_result"
    }
   ],
   "source": [
    "performance"
   ]
  },
  {
   "cell_type": "code",
   "execution_count": 14,
   "id": "bb7cea23",
   "metadata": {
    "scrolled": true
   },
   "outputs": [
    {
     "data": {
      "text/html": [
       "<div>\n",
       "<style scoped>\n",
       "    .dataframe tbody tr th:only-of-type {\n",
       "        vertical-align: middle;\n",
       "    }\n",
       "\n",
       "    .dataframe tbody tr th {\n",
       "        vertical-align: top;\n",
       "    }\n",
       "\n",
       "    .dataframe thead th {\n",
       "        text-align: right;\n",
       "    }\n",
       "</style>\n",
       "<table border=\"1\" class=\"dataframe\">\n",
       "  <thead>\n",
       "    <tr style=\"text-align: right;\">\n",
       "      <th></th>\n",
       "      <th>Player</th>\n",
       "      <th>Salary</th>\n",
       "      <th>Rs</th>\n",
       "      <th>international</th>\n",
       "      <th>iconic</th>\n",
       "    </tr>\n",
       "  </thead>\n",
       "  <tbody>\n",
       "    <tr>\n",
       "      <th>0</th>\n",
       "      <td>Abhishek Porel</td>\n",
       "      <td>20 lakh</td>\n",
       "      <td>20</td>\n",
       "      <td>0</td>\n",
       "      <td>NaN</td>\n",
       "    </tr>\n",
       "    <tr>\n",
       "      <th>1</th>\n",
       "      <td>Anrich Nortje</td>\n",
       "      <td>6.5 crore</td>\n",
       "      <td>650</td>\n",
       "      <td>1</td>\n",
       "      <td>NaN</td>\n",
       "    </tr>\n",
       "    <tr>\n",
       "      <th>2</th>\n",
       "      <td>Axar Patel</td>\n",
       "      <td>9 crore</td>\n",
       "      <td>900</td>\n",
       "      <td>0</td>\n",
       "      <td>NaN</td>\n",
       "    </tr>\n",
       "    <tr>\n",
       "      <th>3</th>\n",
       "      <td>David Warner</td>\n",
       "      <td>6.25 crore</td>\n",
       "      <td>625</td>\n",
       "      <td>1</td>\n",
       "      <td>NaN</td>\n",
       "    </tr>\n",
       "    <tr>\n",
       "      <th>4</th>\n",
       "      <td>Ishant Sharma</td>\n",
       "      <td>50 lakh</td>\n",
       "      <td>50</td>\n",
       "      <td>0</td>\n",
       "      <td>NaN</td>\n",
       "    </tr>\n",
       "  </tbody>\n",
       "</table>\n",
       "</div>"
      ],
      "text/plain": [
       "           Player      Salary   Rs  international  iconic\n",
       "0  Abhishek Porel     20 lakh   20              0     NaN\n",
       "1   Anrich Nortje   6.5 crore  650              1     NaN\n",
       "2      Axar Patel     9 crore  900              0     NaN\n",
       "3    David Warner  6.25 crore  625              1     NaN\n",
       "4   Ishant Sharma     50 lakh   50              0     NaN"
      ]
     },
     "execution_count": 14,
     "metadata": {},
     "output_type": "execute_result"
    }
   ],
   "source": [
    "# Load player salaries data (assuming we have a dataset named 'IPL_player_salaries.csv')\n",
    "salaries = pd.read_excel('IPL SALARIES 2024.xlsx')\n",
    "salaries.head()"
   ]
  },
  {
   "cell_type": "code",
   "execution_count": 31,
   "id": "5531ef4b",
   "metadata": {},
   "outputs": [],
   "source": [
    "# Function to convert salary strings to numeric values\n",
    "def convert_salary(salary):\n",
    "    try:\n",
    "        if 'crore' in salary:\n",
    "            return float(salary.replace(' crore', '').replace(',', '')) * 10**7\n",
    "        elif 'lakh' in salary:\n",
    "            return float(salary.replace(' lakh', '').replace(',', '')) * 10**5\n",
    "        else:\n",
    "            return float(salary.replace(',', ''))\n",
    "    except ValueError:\n",
    "        print(f\"Problematic salary value: {salary}\")\n",
    "        return np.nan"
   ]
  },
  {
   "cell_type": "code",
   "execution_count": 32,
   "id": "c571de30",
   "metadata": {},
   "outputs": [
    {
     "name": "stdout",
     "output_type": "stream",
     "text": [
      "Problematic salary value: 50 lakhs\n",
      "Problematic salary value: 6.75 Crore\n",
      "Problematic salary value: 16 Crore\n",
      "Problematic salary value: 8.25 Crore\n"
     ]
    }
   ],
   "source": [
    "# Apply conversion function to salary column\n",
    "salaries['Salary'] = salaries['Salary'].apply(convert_salary)"
   ]
  },
  {
   "cell_type": "code",
   "execution_count": 33,
   "id": "42275d01",
   "metadata": {},
   "outputs": [],
   "source": [
    "# Drop rows with NaN salary values\n",
    "salaries.dropna(subset=['Salary'], inplace=True)"
   ]
  },
  {
   "cell_type": "code",
   "execution_count": 34,
   "id": "c6b5a078",
   "metadata": {},
   "outputs": [],
   "source": [
    "# Merge performance data with salaries\n",
    "player_data = pd.merge(performance, salaries, how='inner', left_on='Striker', right_on='Player')"
   ]
  },
  {
   "cell_type": "code",
   "execution_count": 35,
   "id": "10c69128",
   "metadata": {},
   "outputs": [
    {
     "data": {
      "text/html": [
       "<div>\n",
       "<style scoped>\n",
       "    .dataframe tbody tr th:only-of-type {\n",
       "        vertical-align: middle;\n",
       "    }\n",
       "\n",
       "    .dataframe tbody tr th {\n",
       "        vertical-align: top;\n",
       "    }\n",
       "\n",
       "    .dataframe thead th {\n",
       "        text-align: right;\n",
       "    }\n",
       "</style>\n",
       "<table border=\"1\" class=\"dataframe\">\n",
       "  <thead>\n",
       "    <tr style=\"text-align: right;\">\n",
       "      <th></th>\n",
       "      <th>runs_scored</th>\n",
       "      <th>balls_faced</th>\n",
       "      <th>wickets_lost</th>\n",
       "      <th>strike_rate</th>\n",
       "      <th>Player</th>\n",
       "      <th>Salary</th>\n",
       "      <th>Rs</th>\n",
       "      <th>international</th>\n",
       "      <th>iconic</th>\n",
       "    </tr>\n",
       "  </thead>\n",
       "  <tbody>\n",
       "    <tr>\n",
       "      <th>0</th>\n",
       "      <td>545</td>\n",
       "      <td>377</td>\n",
       "      <td>0</td>\n",
       "      <td>144.562334</td>\n",
       "      <td>Abdul Samad</td>\n",
       "      <td>40000000.0</td>\n",
       "      <td>400</td>\n",
       "      <td>0</td>\n",
       "      <td>NaN</td>\n",
       "    </tr>\n",
       "    <tr>\n",
       "      <th>1</th>\n",
       "      <td>1196</td>\n",
       "      <td>823</td>\n",
       "      <td>0</td>\n",
       "      <td>145.321993</td>\n",
       "      <td>Abhishek Sharma</td>\n",
       "      <td>65000000.0</td>\n",
       "      <td>650</td>\n",
       "      <td>0</td>\n",
       "      <td>NaN</td>\n",
       "    </tr>\n",
       "    <tr>\n",
       "      <th>2</th>\n",
       "      <td>19</td>\n",
       "      <td>12</td>\n",
       "      <td>0</td>\n",
       "      <td>158.333333</td>\n",
       "      <td>Akash Deep</td>\n",
       "      <td>2000000.0</td>\n",
       "      <td>20</td>\n",
       "      <td>0</td>\n",
       "      <td>NaN</td>\n",
       "    </tr>\n",
       "    <tr>\n",
       "      <th>3</th>\n",
       "      <td>4</td>\n",
       "      <td>5</td>\n",
       "      <td>0</td>\n",
       "      <td>80.000000</td>\n",
       "      <td>Akash Madhwal</td>\n",
       "      <td>2000000.0</td>\n",
       "      <td>20</td>\n",
       "      <td>0</td>\n",
       "      <td>NaN</td>\n",
       "    </tr>\n",
       "    <tr>\n",
       "      <th>4</th>\n",
       "      <td>134</td>\n",
       "      <td>111</td>\n",
       "      <td>0</td>\n",
       "      <td>120.720721</td>\n",
       "      <td>Anmolpreet Singh</td>\n",
       "      <td>2000000.0</td>\n",
       "      <td>20</td>\n",
       "      <td>0</td>\n",
       "      <td>NaN</td>\n",
       "    </tr>\n",
       "    <tr>\n",
       "      <th>5</th>\n",
       "      <td>318</td>\n",
       "      <td>276</td>\n",
       "      <td>0</td>\n",
       "      <td>115.217391</td>\n",
       "      <td>Anuj Rawat</td>\n",
       "      <td>34000000.0</td>\n",
       "      <td>340</td>\n",
       "      <td>0</td>\n",
       "      <td>NaN</td>\n",
       "    </tr>\n",
       "    <tr>\n",
       "      <th>6</th>\n",
       "      <td>13</td>\n",
       "      <td>9</td>\n",
       "      <td>0</td>\n",
       "      <td>144.444444</td>\n",
       "      <td>Arjun Tendulkar</td>\n",
       "      <td>3000000.0</td>\n",
       "      <td>30</td>\n",
       "      <td>0</td>\n",
       "      <td>NaN</td>\n",
       "    </tr>\n",
       "    <tr>\n",
       "      <th>7</th>\n",
       "      <td>25</td>\n",
       "      <td>38</td>\n",
       "      <td>0</td>\n",
       "      <td>65.789474</td>\n",
       "      <td>Arshdeep Singh</td>\n",
       "      <td>40000000.0</td>\n",
       "      <td>400</td>\n",
       "      <td>0</td>\n",
       "      <td>NaN</td>\n",
       "    </tr>\n",
       "    <tr>\n",
       "      <th>8</th>\n",
       "      <td>201</td>\n",
       "      <td>150</td>\n",
       "      <td>0</td>\n",
       "      <td>134.000000</td>\n",
       "      <td>Atharva Taide</td>\n",
       "      <td>2000000.0</td>\n",
       "      <td>20</td>\n",
       "      <td>0</td>\n",
       "      <td>NaN</td>\n",
       "    </tr>\n",
       "    <tr>\n",
       "      <th>9</th>\n",
       "      <td>254</td>\n",
       "      <td>171</td>\n",
       "      <td>0</td>\n",
       "      <td>148.538012</td>\n",
       "      <td>Dhruv Jurel</td>\n",
       "      <td>2000000.0</td>\n",
       "      <td>20</td>\n",
       "      <td>0</td>\n",
       "      <td>NaN</td>\n",
       "    </tr>\n",
       "    <tr>\n",
       "      <th>10</th>\n",
       "      <td>3</td>\n",
       "      <td>13</td>\n",
       "      <td>0</td>\n",
       "      <td>23.076923</td>\n",
       "      <td>Fazalhaq Farooqi</td>\n",
       "      <td>5000000.0</td>\n",
       "      <td>50</td>\n",
       "      <td>0</td>\n",
       "      <td>NaN</td>\n",
       "    </tr>\n",
       "    <tr>\n",
       "      <th>11</th>\n",
       "      <td>2</td>\n",
       "      <td>3</td>\n",
       "      <td>0</td>\n",
       "      <td>66.666667</td>\n",
       "      <td>Harshit Rana</td>\n",
       "      <td>2000000.0</td>\n",
       "      <td>20</td>\n",
       "      <td>0</td>\n",
       "      <td>NaN</td>\n",
       "    </tr>\n",
       "    <tr>\n",
       "      <th>12</th>\n",
       "      <td>2568</td>\n",
       "      <td>1937</td>\n",
       "      <td>0</td>\n",
       "      <td>132.576149</td>\n",
       "      <td>Ishan Kishan</td>\n",
       "      <td>152500000.0</td>\n",
       "      <td>1525</td>\n",
       "      <td>0</td>\n",
       "      <td>NaN</td>\n",
       "    </tr>\n",
       "    <tr>\n",
       "      <th>13</th>\n",
       "      <td>4575</td>\n",
       "      <td>3477</td>\n",
       "      <td>0</td>\n",
       "      <td>131.578947</td>\n",
       "      <td>KL Rahul</td>\n",
       "      <td>170000000.0</td>\n",
       "      <td>1700</td>\n",
       "      <td>0</td>\n",
       "      <td>NaN</td>\n",
       "    </tr>\n",
       "    <tr>\n",
       "      <th>14</th>\n",
       "      <td>172</td>\n",
       "      <td>211</td>\n",
       "      <td>0</td>\n",
       "      <td>81.516588</td>\n",
       "      <td>Kuldeep Yadav</td>\n",
       "      <td>20000000.0</td>\n",
       "      <td>200</td>\n",
       "      <td>0</td>\n",
       "      <td>NaN</td>\n",
       "    </tr>\n",
       "    <tr>\n",
       "      <th>15</th>\n",
       "      <td>305</td>\n",
       "      <td>301</td>\n",
       "      <td>0</td>\n",
       "      <td>101.328904</td>\n",
       "      <td>Lalit Yadav</td>\n",
       "      <td>6500000.0</td>\n",
       "      <td>65</td>\n",
       "      <td>0</td>\n",
       "      <td>NaN</td>\n",
       "    </tr>\n",
       "    <tr>\n",
       "      <th>16</th>\n",
       "      <td>5192</td>\n",
       "      <td>3921</td>\n",
       "      <td>0</td>\n",
       "      <td>132.415200</td>\n",
       "      <td>MS Dhoni</td>\n",
       "      <td>120000000.0</td>\n",
       "      <td>1200</td>\n",
       "      <td>0</td>\n",
       "      <td>NaN</td>\n",
       "    </tr>\n",
       "    <tr>\n",
       "      <th>17</th>\n",
       "      <td>109</td>\n",
       "      <td>122</td>\n",
       "      <td>0</td>\n",
       "      <td>89.344262</td>\n",
       "      <td>Mohammed Siraj</td>\n",
       "      <td>70000000.0</td>\n",
       "      <td>700</td>\n",
       "      <td>0</td>\n",
       "      <td>NaN</td>\n",
       "    </tr>\n",
       "    <tr>\n",
       "      <th>18</th>\n",
       "      <td>25</td>\n",
       "      <td>27</td>\n",
       "      <td>0</td>\n",
       "      <td>92.592593</td>\n",
       "      <td>Mohsin Khan</td>\n",
       "      <td>2000000.0</td>\n",
       "      <td>20</td>\n",
       "      <td>0</td>\n",
       "      <td>NaN</td>\n",
       "    </tr>\n",
       "    <tr>\n",
       "      <th>19</th>\n",
       "      <td>6</td>\n",
       "      <td>6</td>\n",
       "      <td>0</td>\n",
       "      <td>100.000000</td>\n",
       "      <td>Mukesh Choudhary</td>\n",
       "      <td>2000000.0</td>\n",
       "      <td>20</td>\n",
       "      <td>0</td>\n",
       "      <td>NaN</td>\n",
       "    </tr>\n",
       "    <tr>\n",
       "      <th>20</th>\n",
       "      <td>7</td>\n",
       "      <td>12</td>\n",
       "      <td>0</td>\n",
       "      <td>58.333333</td>\n",
       "      <td>Mukesh Kumar</td>\n",
       "      <td>55000000.0</td>\n",
       "      <td>550</td>\n",
       "      <td>0</td>\n",
       "      <td>NaN</td>\n",
       "    </tr>\n",
       "    <tr>\n",
       "      <th>21</th>\n",
       "      <td>33</td>\n",
       "      <td>38</td>\n",
       "      <td>0</td>\n",
       "      <td>86.842105</td>\n",
       "      <td>Navdeep Saini</td>\n",
       "      <td>26000000.0</td>\n",
       "      <td>260</td>\n",
       "      <td>0</td>\n",
       "      <td>NaN</td>\n",
       "    </tr>\n",
       "    <tr>\n",
       "      <th>22</th>\n",
       "      <td>13</td>\n",
       "      <td>18</td>\n",
       "      <td>0</td>\n",
       "      <td>72.222222</td>\n",
       "      <td>Noor Ahmad</td>\n",
       "      <td>3000000.0</td>\n",
       "      <td>30</td>\n",
       "      <td>0</td>\n",
       "      <td>NaN</td>\n",
       "    </tr>\n",
       "    <tr>\n",
       "      <th>23</th>\n",
       "      <td>227</td>\n",
       "      <td>178</td>\n",
       "      <td>0</td>\n",
       "      <td>127.528090</td>\n",
       "      <td>Rahmanullah Gurbaz</td>\n",
       "      <td>5000000.0</td>\n",
       "      <td>50</td>\n",
       "      <td>0</td>\n",
       "      <td>NaN</td>\n",
       "    </tr>\n",
       "    <tr>\n",
       "      <th>24</th>\n",
       "      <td>527</td>\n",
       "      <td>341</td>\n",
       "      <td>0</td>\n",
       "      <td>154.545455</td>\n",
       "      <td>Rashid Khan</td>\n",
       "      <td>150000000.0</td>\n",
       "      <td>1500</td>\n",
       "      <td>0</td>\n",
       "      <td>NaN</td>\n",
       "    </tr>\n",
       "    <tr>\n",
       "      <th>25</th>\n",
       "      <td>28</td>\n",
       "      <td>47</td>\n",
       "      <td>0</td>\n",
       "      <td>59.574468</td>\n",
       "      <td>Ravi Bishnoi</td>\n",
       "      <td>40000000.0</td>\n",
       "      <td>400</td>\n",
       "      <td>0</td>\n",
       "      <td>NaN</td>\n",
       "    </tr>\n",
       "    <tr>\n",
       "      <th>26</th>\n",
       "      <td>54</td>\n",
       "      <td>73</td>\n",
       "      <td>0</td>\n",
       "      <td>73.972603</td>\n",
       "      <td>Sandeep Sharma</td>\n",
       "      <td>5000000.0</td>\n",
       "      <td>50</td>\n",
       "      <td>0</td>\n",
       "      <td>NaN</td>\n",
       "    </tr>\n",
       "    <tr>\n",
       "      <th>27</th>\n",
       "      <td>3110</td>\n",
       "      <td>2366</td>\n",
       "      <td>0</td>\n",
       "      <td>131.445478</td>\n",
       "      <td>Shubman Gill</td>\n",
       "      <td>70000000.0</td>\n",
       "      <td>700</td>\n",
       "      <td>0</td>\n",
       "      <td>NaN</td>\n",
       "    </tr>\n",
       "    <tr>\n",
       "      <th>28</th>\n",
       "      <td>182</td>\n",
       "      <td>143</td>\n",
       "      <td>0</td>\n",
       "      <td>127.272727</td>\n",
       "      <td>Sikandar Raza</td>\n",
       "      <td>5000000.0</td>\n",
       "      <td>50</td>\n",
       "      <td>0</td>\n",
       "      <td>NaN</td>\n",
       "    </tr>\n",
       "    <tr>\n",
       "      <th>29</th>\n",
       "      <td>7</td>\n",
       "      <td>8</td>\n",
       "      <td>0</td>\n",
       "      <td>87.500000</td>\n",
       "      <td>Simarjeet Singh</td>\n",
       "      <td>2000000.0</td>\n",
       "      <td>20</td>\n",
       "      <td>0</td>\n",
       "      <td>NaN</td>\n",
       "    </tr>\n",
       "    <tr>\n",
       "      <th>30</th>\n",
       "      <td>1083</td>\n",
       "      <td>772</td>\n",
       "      <td>0</td>\n",
       "      <td>140.284974</td>\n",
       "      <td>Tilak Varma</td>\n",
       "      <td>17000000.0</td>\n",
       "      <td>170</td>\n",
       "      <td>0</td>\n",
       "      <td>NaN</td>\n",
       "    </tr>\n",
       "    <tr>\n",
       "      <th>31</th>\n",
       "      <td>23</td>\n",
       "      <td>16</td>\n",
       "      <td>0</td>\n",
       "      <td>143.750000</td>\n",
       "      <td>Umran Malik</td>\n",
       "      <td>40000000.0</td>\n",
       "      <td>400</td>\n",
       "      <td>0</td>\n",
       "      <td>NaN</td>\n",
       "    </tr>\n",
       "    <tr>\n",
       "      <th>32</th>\n",
       "      <td>56</td>\n",
       "      <td>58</td>\n",
       "      <td>0</td>\n",
       "      <td>96.551724</td>\n",
       "      <td>Vishnu Vinod</td>\n",
       "      <td>2000000.0</td>\n",
       "      <td>20</td>\n",
       "      <td>0</td>\n",
       "      <td>NaN</td>\n",
       "    </tr>\n",
       "    <tr>\n",
       "      <th>33</th>\n",
       "      <td>378</td>\n",
       "      <td>341</td>\n",
       "      <td>0</td>\n",
       "      <td>110.850440</td>\n",
       "      <td>Washington Sundar</td>\n",
       "      <td>87500000.0</td>\n",
       "      <td>875</td>\n",
       "      <td>0</td>\n",
       "      <td>NaN</td>\n",
       "    </tr>\n",
       "  </tbody>\n",
       "</table>\n",
       "</div>"
      ],
      "text/plain": [
       "    runs_scored  balls_faced  wickets_lost  strike_rate              Player  \\\n",
       "0           545          377             0   144.562334         Abdul Samad   \n",
       "1          1196          823             0   145.321993     Abhishek Sharma   \n",
       "2            19           12             0   158.333333          Akash Deep   \n",
       "3             4            5             0    80.000000       Akash Madhwal   \n",
       "4           134          111             0   120.720721    Anmolpreet Singh   \n",
       "5           318          276             0   115.217391          Anuj Rawat   \n",
       "6            13            9             0   144.444444     Arjun Tendulkar   \n",
       "7            25           38             0    65.789474      Arshdeep Singh   \n",
       "8           201          150             0   134.000000       Atharva Taide   \n",
       "9           254          171             0   148.538012         Dhruv Jurel   \n",
       "10            3           13             0    23.076923    Fazalhaq Farooqi   \n",
       "11            2            3             0    66.666667        Harshit Rana   \n",
       "12         2568         1937             0   132.576149        Ishan Kishan   \n",
       "13         4575         3477             0   131.578947            KL Rahul   \n",
       "14          172          211             0    81.516588       Kuldeep Yadav   \n",
       "15          305          301             0   101.328904         Lalit Yadav   \n",
       "16         5192         3921             0   132.415200            MS Dhoni   \n",
       "17          109          122             0    89.344262      Mohammed Siraj   \n",
       "18           25           27             0    92.592593         Mohsin Khan   \n",
       "19            6            6             0   100.000000    Mukesh Choudhary   \n",
       "20            7           12             0    58.333333        Mukesh Kumar   \n",
       "21           33           38             0    86.842105       Navdeep Saini   \n",
       "22           13           18             0    72.222222          Noor Ahmad   \n",
       "23          227          178             0   127.528090  Rahmanullah Gurbaz   \n",
       "24          527          341             0   154.545455         Rashid Khan   \n",
       "25           28           47             0    59.574468        Ravi Bishnoi   \n",
       "26           54           73             0    73.972603      Sandeep Sharma   \n",
       "27         3110         2366             0   131.445478        Shubman Gill   \n",
       "28          182          143             0   127.272727       Sikandar Raza   \n",
       "29            7            8             0    87.500000     Simarjeet Singh   \n",
       "30         1083          772             0   140.284974         Tilak Varma   \n",
       "31           23           16             0   143.750000         Umran Malik   \n",
       "32           56           58             0    96.551724        Vishnu Vinod   \n",
       "33          378          341             0   110.850440   Washington Sundar   \n",
       "\n",
       "         Salary    Rs  international  iconic  \n",
       "0    40000000.0   400              0     NaN  \n",
       "1    65000000.0   650              0     NaN  \n",
       "2     2000000.0    20              0     NaN  \n",
       "3     2000000.0    20              0     NaN  \n",
       "4     2000000.0    20              0     NaN  \n",
       "5    34000000.0   340              0     NaN  \n",
       "6     3000000.0    30              0     NaN  \n",
       "7    40000000.0   400              0     NaN  \n",
       "8     2000000.0    20              0     NaN  \n",
       "9     2000000.0    20              0     NaN  \n",
       "10    5000000.0    50              0     NaN  \n",
       "11    2000000.0    20              0     NaN  \n",
       "12  152500000.0  1525              0     NaN  \n",
       "13  170000000.0  1700              0     NaN  \n",
       "14   20000000.0   200              0     NaN  \n",
       "15    6500000.0    65              0     NaN  \n",
       "16  120000000.0  1200              0     NaN  \n",
       "17   70000000.0   700              0     NaN  \n",
       "18    2000000.0    20              0     NaN  \n",
       "19    2000000.0    20              0     NaN  \n",
       "20   55000000.0   550              0     NaN  \n",
       "21   26000000.0   260              0     NaN  \n",
       "22    3000000.0    30              0     NaN  \n",
       "23    5000000.0    50              0     NaN  \n",
       "24  150000000.0  1500              0     NaN  \n",
       "25   40000000.0   400              0     NaN  \n",
       "26    5000000.0    50              0     NaN  \n",
       "27   70000000.0   700              0     NaN  \n",
       "28    5000000.0    50              0     NaN  \n",
       "29    2000000.0    20              0     NaN  \n",
       "30   17000000.0   170              0     NaN  \n",
       "31   40000000.0   400              0     NaN  \n",
       "32    2000000.0    20              0     NaN  \n",
       "33   87500000.0   875              0     NaN  "
      ]
     },
     "execution_count": 35,
     "metadata": {},
     "output_type": "execute_result"
    }
   ],
   "source": [
    "player_data"
   ]
  },
  {
   "cell_type": "code",
   "execution_count": 36,
   "id": "16d68822",
   "metadata": {},
   "outputs": [
    {
     "data": {
      "image/png": "[encoded data removed]",
      "text/plain": [
       "<Figure size 1000x500 with 1 Axes>"
      ]
     },
     "metadata": {},
     "output_type": "display_data"
    }
   ],
   "source": [
    "# Exploratory Data Analysis (EDA)\n",
    "# Plotting distributions of key variables\n",
    "plt.figure(figsize=(10, 5))\n",
    "sns.histplot(player_data['runs_scored'], bins=30, kde=True)\n",
    "plt.title('Distribution of Runs Scored')\n",
    "plt.show()"
   ]
  },
  {
   "cell_type": "code",
   "execution_count": 37,
   "id": "0ee71c4d",
   "metadata": {},
   "outputs": [
    {
     "data": {
      "image/png": "[encoded data removed]",
      "text/plain": [
       "<Figure size 1000x500 with 1 Axes>"
      ]
     },
     "metadata": {},
     "output_type": "display_data"
    }
   ],
   "source": [
    "plt.figure(figsize=(10, 5))\n",
    "sns.histplot(player_data['strike_rate'], bins=30, kde=True)\n",
    "plt.title('Distribution of Strike Rate')\n",
    "plt.show()"
   ]
  },
  {
   "cell_type": "code",
   "execution_count": 38,
   "id": "21dace12",
   "metadata": {},
   "outputs": [
    {
     "data": {
      "image/png": "[encoded data removed]",
      "text/plain": [
       "<Figure size 1000x500 with 1 Axes>"
      ]
     },
     "metadata": {},
     "output_type": "display_data"
    }
   ],
   "source": [
    "plt.figure(figsize=(10, 5))\n",
    "sns.histplot(player_data['Salary'], bins=30, kde=True)\n",
    "plt.title('Distribution of Salaries')\n",
    "plt.show()"
   ]
  },
  {
   "cell_type": "code",
   "execution_count": 39,
   "id": "94e7ae0a",
   "metadata": {},
   "outputs": [
    {
     "data": {
      "image/png": "[encoded data removed]",
      "text/plain": [
       "<Figure size 1000x500 with 1 Axes>"
      ]
     },
     "metadata": {},
     "output_type": "display_data"
    }
   ],
   "source": [
    "# Scatter plots to visualize relationships\n",
    "plt.figure(figsize=(10, 5))\n",
    "sns.scatterplot(x='runs_scored', y='Salary', data=player_data)\n",
    "plt.title('Runs Scored vs Salary')\n",
    "plt.show()"
   ]
  },
  {
   "cell_type": "code",
   "execution_count": 40,
   "id": "e69004c2",
   "metadata": {},
   "outputs": [
    {
     "data": {
      "image/png": "[encoded data removed]",
      "text/plain": [
       "<Figure size 1000x500 with 1 Axes>"
      ]
     },
     "metadata": {},
     "output_type": "display_data"
    }
   ],
   "source": [
    "plt.figure(figsize=(10, 5))\n",
    "sns.scatterplot(x='strike_rate', y='Salary', data=player_data)\n",
    "plt.title('Strike Rate vs Salary')\n",
    "plt.show()"
   ]
  },
  {
   "cell_type": "code",
   "execution_count": 41,
   "id": "135cbf98",
   "metadata": {},
   "outputs": [],
   "source": [
    "# Regression Analysis\n",
    "# Define the feature matrix (X) and target vector (y)\n",
    "X = player_data[['runs_scored', 'strike_rate']]\n",
    "y = player_data['Salary']"
   ]
  },
  {
   "cell_type": "code",
   "execution_count": 42,
   "id": "29bea2ed",
   "metadata": {},
   "outputs": [
    {
     "data": {
      "text/plain": [
       "0    40000000.0\n",
       "1    65000000.0\n",
       "2     2000000.0\n",
       "3     2000000.0\n",
       "4     2000000.0\n",
       "Name: Salary, dtype: float64"
      ]
     },
     "execution_count": 42,
     "metadata": {},
     "output_type": "execute_result"
    }
   ],
   "source": [
    "y.head()"
   ]
  },
  {
   "cell_type": "code",
   "execution_count": 43,
   "id": "a7720f32",
   "metadata": {},
   "outputs": [],
   "source": [
    "# Split the data into training and testing sets\n",
    "X_train, X_test, y_train, y_test = train_test_split(X, y, test_size=0.2, random_state=42)"
   ]
  },
  {
   "cell_type": "code",
   "execution_count": 44,
   "id": "80485f76",
   "metadata": {},
   "outputs": [
    {
     "data": {
      "text/html": [
       "<style>#sk-container-id-2 {color: black;}#sk-container-id-2 pre{padding: 0;}#sk-container-id-2 div.sk-toggleable {background-color: white;}#sk-container-id-2 label.sk-toggleable__label {cursor: pointer;display: block;width: 100%;margin-bottom: 0;padding: 0.3em;box-sizing: border-box;text-align: center;}#sk-container-id-2 label.sk-toggleable__label-arrow:before {content: \"▸\";float: left;margin-right: 0.25em;color: #696969;}#sk-container-id-2 label.sk-toggleable__label-arrow:hover:before {color: black;}#sk-container-id-2 div.sk-estimator:hover label.sk-toggleable__label-arrow:before {color: black;}#sk-container-id-2 div.sk-toggleable__content {max-height: 0;max-width: 0;overflow: hidden;text-align: left;background-color: #f0f8ff;}#sk-container-id-2 div.sk-toggleable__content pre {margin: 0.2em;color: black;border-radius: 0.25em;background-color: #f0f8ff;}#sk-container-id-2 input.sk-toggleable__control:checked~div.sk-toggleable__content {max-height: 200px;max-width: 100%;overflow: auto;}#sk-container-id-2 input.sk-toggleable__control:checked~label.sk-toggleable__label-arrow:before {content: \"▾\";}#sk-container-id-2 div.sk-estimator input.sk-toggleable__control:checked~label.sk-toggleable__label {background-color: #d4ebff;}#sk-container-id-2 div.sk-label input.sk-toggleable__control:checked~label.sk-toggleable__label {background-color: #d4ebff;}#sk-container-id-2 input.sk-hidden--visually {border: 0;clip: rect(1px 1px 1px 1px);clip: rect(1px, 1px, 1px, 1px);height: 1px;margin: -1px;overflow: hidden;padding: 0;position: absolute;width: 1px;}#sk-container-id-2 div.sk-estimator {font-family: monospace;background-color: #f0f8ff;border: 1px dotted black;border-radius: 0.25em;box-sizing: border-box;margin-bottom: 0.5em;}#sk-container-id-2 div.sk-estimator:hover {background-color: #d4ebff;}#sk-container-id-2 div.sk-parallel-item::after {content: \"\";width: 100%;border-bottom: 1px solid gray;flex-grow: 1;}#sk-container-id-2 div.sk-label:hover label.sk-toggleable__label {background-color: #d4ebff;}#sk-container-id-2 div.sk-serial::before {content: \"\";position: absolute;border-left: 1px solid gray;box-sizing: border-box;top: 0;bottom: 0;left: 50%;z-index: 0;}#sk-container-id-2 div.sk-serial {display: flex;flex-direction: column;align-items: center;background-color: white;padding-right: 0.2em;padding-left: 0.2em;position: relative;}#sk-container-id-2 div.sk-item {position: relative;z-index: 1;}#sk-container-id-2 div.sk-parallel {display: flex;align-items: stretch;justify-content: center;background-color: white;position: relative;}#sk-container-id-2 div.sk-item::before, #sk-container-id-2 div.sk-parallel-item::before {content: \"\";position: absolute;border-left: 1px solid gray;box-sizing: border-box;top: 0;bottom: 0;left: 50%;z-index: -1;}#sk-container-id-2 div.sk-parallel-item {display: flex;flex-direction: column;z-index: 1;position: relative;background-color: white;}#sk-container-id-2 div.sk-parallel-item:first-child::after {align-self: flex-end;width: 50%;}#sk-container-id-2 div.sk-parallel-item:last-child::after {align-self: flex-start;width: 50%;}#sk-container-id-2 div.sk-parallel-item:only-child::after {width: 0;}#sk-container-id-2 div.sk-dashed-wrapped {border: 1px dashed gray;margin: 0 0.4em 0.5em 0.4em;box-sizing: border-box;padding-bottom: 0.4em;background-color: white;}#sk-container-id-2 div.sk-label label {font-family: monospace;font-weight: bold;display: inline-block;line-height: 1.2em;}#sk-container-id-2 div.sk-label-container {text-align: center;}#sk-container-id-2 div.sk-container {/* jupyter's `normalize.less` sets `[hidden] { display: none; }` but bootstrap.min.css set `[hidden] { display: none !important; }` so we also need the `!important` here to be able to override the default hidden behavior on the sphinx rendered scikit-learn.org. See: https://github.com/scikit-learn/scikit-learn/issues/21755 */display: inline-block !important;position: relative;}#sk-container-id-2 div.sk-text-repr-fallback {display: none;}</style><div id=\"sk-container-id-2\" class=\"sk-top-container\"><div class=\"sk-text-repr-fallback\"><pre>LinearRegression()</pre><b>In a Jupyter environment, please rerun this cell to show the HTML representation or trust the notebook. <br />On GitHub, the HTML representation is unable to render, please try loading this page with nbviewer.org.</b></div><div class=\"sk-container\" hidden><div class=\"sk-item\"><div class=\"sk-estimator sk-toggleable\"><input class=\"sk-toggleable__control sk-hidden--visually\" id=\"sk-estimator-id-2\" type=\"checkbox\" checked><label for=\"sk-estimator-id-2\" class=\"sk-toggleable__label sk-toggleable__label-arrow\">LinearRegression</label><div class=\"sk-toggleable__content\"><pre>LinearRegression()</pre></div></div></div></div></div>"
      ],
      "text/plain": [
       "LinearRegression()"
      ]
     },
     "execution_count": 44,
     "metadata": {},
     "output_type": "execute_result"
    }
   ],
   "source": [
    "# Create a linear regression model\n",
    "model = LinearRegression()\n",
    "model"
   ]
  },
  {
   "cell_type": "code",
   "execution_count": 45,
   "id": "2a54733e",
   "metadata": {},
   "outputs": [
    {
     "data": {
      "text/html": [
       "<style>#sk-container-id-3 {color: black;}#sk-container-id-3 pre{padding: 0;}#sk-container-id-3 div.sk-toggleable {background-color: white;}#sk-container-id-3 label.sk-toggleable__label {cursor: pointer;display: block;width: 100%;margin-bottom: 0;padding: 0.3em;box-sizing: border-box;text-align: center;}#sk-container-id-3 label.sk-toggleable__label-arrow:before {content: \"▸\";float: left;margin-right: 0.25em;color: #696969;}#sk-container-id-3 label.sk-toggleable__label-arrow:hover:before {color: black;}#sk-container-id-3 div.sk-estimator:hover label.sk-toggleable__label-arrow:before {color: black;}#sk-container-id-3 div.sk-toggleable__content {max-height: 0;max-width: 0;overflow: hidden;text-align: left;background-color: #f0f8ff;}#sk-container-id-3 div.sk-toggleable__content pre {margin: 0.2em;color: black;border-radius: 0.25em;background-color: #f0f8ff;}#sk-container-id-3 input.sk-toggleable__control:checked~div.sk-toggleable__content {max-height: 200px;max-width: 100%;overflow: auto;}#sk-container-id-3 input.sk-toggleable__control:checked~label.sk-toggleable__label-arrow:before {content: \"▾\";}#sk-container-id-3 div.sk-estimator input.sk-toggleable__control:checked~label.sk-toggleable__label {background-color: #d4ebff;}#sk-container-id-3 div.sk-label input.sk-toggleable__control:checked~label.sk-toggleable__label {background-color: #d4ebff;}#sk-container-id-3 input.sk-hidden--visually {border: 0;clip: rect(1px 1px 1px 1px);clip: rect(1px, 1px, 1px, 1px);height: 1px;margin: -1px;overflow: hidden;padding: 0;position: absolute;width: 1px;}#sk-container-id-3 div.sk-estimator {font-family: monospace;background-color: #f0f8ff;border: 1px dotted black;border-radius: 0.25em;box-sizing: border-box;margin-bottom: 0.5em;}#sk-container-id-3 div.sk-estimator:hover {background-color: #d4ebff;}#sk-container-id-3 div.sk-parallel-item::after {content: \"\";width: 100%;border-bottom: 1px solid gray;flex-grow: 1;}#sk-container-id-3 div.sk-label:hover label.sk-toggleable__label {background-color: #d4ebff;}#sk-container-id-3 div.sk-serial::before {content: \"\";position: absolute;border-left: 1px solid gray;box-sizing: border-box;top: 0;bottom: 0;left: 50%;z-index: 0;}#sk-container-id-3 div.sk-serial {display: flex;flex-direction: column;align-items: center;background-color: white;padding-right: 0.2em;padding-left: 0.2em;position: relative;}#sk-container-id-3 div.sk-item {position: relative;z-index: 1;}#sk-container-id-3 div.sk-parallel {display: flex;align-items: stretch;justify-content: center;background-color: white;position: relative;}#sk-container-id-3 div.sk-item::before, #sk-container-id-3 div.sk-parallel-item::before {content: \"\";position: absolute;border-left: 1px solid gray;box-sizing: border-box;top: 0;bottom: 0;left: 50%;z-index: -1;}#sk-container-id-3 div.sk-parallel-item {display: flex;flex-direction: column;z-index: 1;position: relative;background-color: white;}#sk-container-id-3 div.sk-parallel-item:first-child::after {align-self: flex-end;width: 50%;}#sk-container-id-3 div.sk-parallel-item:last-child::after {align-self: flex-start;width: 50%;}#sk-container-id-3 div.sk-parallel-item:only-child::after {width: 0;}#sk-container-id-3 div.sk-dashed-wrapped {border: 1px dashed gray;margin: 0 0.4em 0.5em 0.4em;box-sizing: border-box;padding-bottom: 0.4em;background-color: white;}#sk-container-id-3 div.sk-label label {font-family: monospace;font-weight: bold;display: inline-block;line-height: 1.2em;}#sk-container-id-3 div.sk-label-container {text-align: center;}#sk-container-id-3 div.sk-container {/* jupyter's `normalize.less` sets `[hidden] { display: none; }` but bootstrap.min.css set `[hidden] { display: none !important; }` so we also need the `!important` here to be able to override the default hidden behavior on the sphinx rendered scikit-learn.org. See: https://github.com/scikit-learn/scikit-learn/issues/21755 */display: inline-block !important;position: relative;}#sk-container-id-3 div.sk-text-repr-fallback {display: none;}</style><div id=\"sk-container-id-3\" class=\"sk-top-container\"><div class=\"sk-text-repr-fallback\"><pre>LinearRegression()</pre><b>In a Jupyter environment, please rerun this cell to show the HTML representation or trust the notebook. <br />On GitHub, the HTML representation is unable to render, please try loading this page with nbviewer.org.</b></div><div class=\"sk-container\" hidden><div class=\"sk-item\"><div class=\"sk-estimator sk-toggleable\"><input class=\"sk-toggleable__control sk-hidden--visually\" id=\"sk-estimator-id-3\" type=\"checkbox\" checked><label for=\"sk-estimator-id-3\" class=\"sk-toggleable__label sk-toggleable__label-arrow\">LinearRegression</label><div class=\"sk-toggleable__content\"><pre>LinearRegression()</pre></div></div></div></div></div>"
      ],
      "text/plain": [
       "LinearRegression()"
      ]
     },
     "execution_count": 45,
     "metadata": {},
     "output_type": "execute_result"
    }
   ],
   "source": [
    "# Train the model\n",
    "model.fit(X_train, y_train)"
   ]
  },
  {
   "cell_type": "code",
   "execution_count": 47,
   "id": "6d6e6747",
   "metadata": {},
   "outputs": [
    {
     "data": {
      "text/plain": [
       "array([2.74197179e+07, 1.87241082e+07, 1.07269788e+08, 2.26858861e+07,\n",
       "       2.11553710e+07, 2.87689363e+07, 2.08076474e+07])"
      ]
     },
     "execution_count": 47,
     "metadata": {},
     "output_type": "execute_result"
    }
   ],
   "source": [
    "# Make predictions\n",
    "y_pred = model.predict(X_test)\n",
    "y_pred"
   ]
  },
  {
   "cell_type": "code",
   "execution_count": 49,
   "id": "369852fb",
   "metadata": {},
   "outputs": [
    {
     "name": "stdout",
     "output_type": "stream",
     "text": [
      "Mean Squared Error: 2501431087895611.5\n",
      "R^2 Score: 0.0474552594538632\n"
     ]
    }
   ],
   "source": [
    "# Evaluate the model\n",
    "mse = mean_squared_error(y_test, y_pred)\n",
    "r2 = r2_score(y_test, y_pred)\n",
    "\n",
    "print(f'Mean Squared Error: {mse}')\n",
    "print(f'R^2 Score: {r2}')"
   ]
  },
  {
   "cell_type": "code",
   "execution_count": 50,
   "id": "9fc3ba33",
   "metadata": {},
   "outputs": [
    {
     "data": {
      "image/png": "[encoded data removed]",
      "text/plain": [
       "<Figure size 1000x500 with 1 Axes>"
      ]
     },
     "metadata": {},
     "output_type": "display_data"
    }
   ],
   "source": [
    "# Plotting the regression line\n",
    "plt.figure(figsize=(10, 5))\n",
    "plt.scatter(y_test, y_pred)\n",
    "plt.plot([y_test.min(), y_test.max()], [y_test.min(), y_test.max()], 'k--', lw=2)\n",
    "plt.xlabel('Actual')\n",
    "plt.ylabel('Predicted')\n",
    "plt.title('Actual vs Predicted Salaries')\n",
    "plt.show()"
   ]
  },
  {
   "cell_type": "code",
   "execution_count": null,
   "id": "5e7d739a",
   "metadata": {},
   "outputs": [],
   "source": []
  }
 ],
 "metadata": {
  "kernelspec": {
   "display_name": "Python 3 (ipykernel)",
   "language": "python",
   "name": "python3"
  },
  "language_info": {
   "codemirror_mode": {
    "name": "ipython",
    "version": 3
   },
   "file_extension": ".py",
   "mimetype": "text/x-python",
   "name": "python",
   "nbconvert_exporter": "python",
   "pygments_lexer": "ipython3",
   "version": "3.11.5"
  }
 },
 "nbformat": 4,
 "nbformat_minor": 5
}
